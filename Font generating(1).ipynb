{
 "cells": [
  {
   "cell_type": "code",
   "execution_count": 1,
   "id": "cb2333fc",
   "metadata": {},
   "outputs": [],
   "source": [
    "from PIL import Image\n",
    "from PIL import ImageDraw\n",
    "from PIL import ImageFont"
   ]
  },
  {
   "cell_type": "markdown",
   "id": "6efcf2e9",
   "metadata": {},
   "source": [
    "## WE DON'T USE THIS Finally-- Generate images from fonts"
   ]
  },
  {
   "cell_type": "code",
   "execution_count": 2,
   "id": "81f2870a",
   "metadata": {},
   "outputs": [],
   "source": [
    "def draw_png(name_1, name_2, font_size):\n",
    "    ''' name_1 is font, name_2 is Character '''\n",
    "    font=ImageFont.truetype('Fonts/' + name_1, font_size)\n",
    "    text_width, text_height = font.getsize(name_2)\n",
    "    image = Image.new(mode='RGBA', size=(text_width, text_height), color='#ffffff')\n",
    "    draw_table = ImageDraw.Draw(im=image)\n",
    "    draw_table.text(xy=(0, 0), text=name_2, fill='#000000',font=font)\n",
    "    image.save('./img/' + name_1 + name_2 + '.png', 'PNG') # Save in the current path (Folder named img), the format is PNG\n",
    "    image.close()"
   ]
  },
  {
   "cell_type": "code",
   "execution_count": 4,
   "id": "130bbf23",
   "metadata": {},
   "outputs": [],
   "source": [
    "draw_png(\"STXINWEI.TTF\",\"李\",399)"
   ]
  }
 ],
 "metadata": {
  "kernelspec": {
   "display_name": "Python 3",
   "language": "python",
   "name": "python3"
  },
  "language_info": {
   "codemirror_mode": {
    "name": "ipython",
    "version": 3
   },
   "file_extension": ".py",
   "mimetype": "text/x-python",
   "name": "python",
   "nbconvert_exporter": "python",
   "pygments_lexer": "ipython3",
   "version": "3.8.8"
  }
 },
 "nbformat": 4,
 "nbformat_minor": 5
}
