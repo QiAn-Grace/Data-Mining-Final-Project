{
 "cells": [
  {
   "cell_type": "code",
   "execution_count": 1,
   "id": "b7a2ad65",
   "metadata": {},
   "outputs": [],
   "source": [
    "import tensorflow as tf\n",
    "from tensorflow import nn\n",
    "import os\n",
    "import  cv2\n",
    "from sklearn.metrics import confusion_matrix\n",
    "import pandas as pd"
   ]
  },
  {
   "cell_type": "code",
   "execution_count": 2,
   "id": "d039d777",
   "metadata": {},
   "outputs": [],
   "source": [
    "from PIL import Image\n",
    "from PIL import ImageDraw\n",
    "from PIL import ImageFont\n",
    "import numpy as np\n",
    "import torch.nn as nn\n",
    "import torch"
   ]
  },
  {
   "cell_type": "code",
   "execution_count": 3,
   "id": "55a5b97a",
   "metadata": {},
   "outputs": [],
   "source": [
    "import math\n",
    "import pickle\n",
    "from pathlib import Path\n",
    "import sklearn.model_selection as SkMs\n",
    "import sklearn.ensemble as SkE\n",
    "import sklearn.metrics as SkM\n",
    "import sklearn.linear_model as SkLm\n",
    "import joblib\n",
    "import sklearn.inspection as SkI\n",
    "from sklearn.metrics import confusion_matrix,classification_report\n",
    "from sklearn.model_selection import train_test_split\n",
    "import matplotlib.pyplot as plt\n",
    "from sklearn.metrics import precision_score, recall_score, f1_score"
   ]
  },
  {
   "cell_type": "markdown",
   "id": "1089d5dc",
   "metadata": {},
   "source": [
    "## Image cropping"
   ]
  },
  {
   "cell_type": "code",
   "execution_count": 4,
   "id": "8874a6fd",
   "metadata": {},
   "outputs": [],
   "source": [
    "def expand2square(img):\n",
    "    '''adjust to square '''\n",
    "    width, height=img.size\n",
    "    if width == height:\n",
    "        return img\n",
    "    elif width > height:\n",
    "        result=Image.new(img.mode,(width,width),'white')\n",
    "        result.paste(img,(0,(width-height)//2))\n",
    "        return result\n",
    "    else:\n",
    "        result=Image.new(img.mode,(height,height),'white')\n",
    "        result.paste(img,((height-width)//2,0))\n",
    "        return result"
   ]
  },
  {
   "cell_type": "markdown",
   "id": "22c327d8",
   "metadata": {},
   "source": [
    "## Transition and smoothing"
   ]
  },
  {
   "cell_type": "code",
   "execution_count": 129,
   "id": "f437b873",
   "metadata": {},
   "outputs": [],
   "source": [
    "def prepro(file='test.png') :\n",
    "    ''' Input image file path, output grayscale array '''\n",
    "    img = Image.open(file).convert('L') # grayscale\n",
    "    img = np.asarray(expand2square(img)) # adjust to square\n",
    "    img = cv2.resize(img,(300,300),interpolation=cv2.INTER_CUBIC) # control size\n",
    "    img = cv2.GaussianBlur(img,(5,5),0) # Gaussian Blur\n",
    "    return img"
   ]
  },
  {
   "cell_type": "markdown",
   "id": "24295aa6",
   "metadata": {},
   "source": [
    "## Hough Transformation"
   ]
  },
  {
   "cell_type": "code",
   "execution_count": 6,
   "id": "f7d2700e",
   "metadata": {},
   "outputs": [],
   "source": [
    "def HL_n(img, threshold=40):\n",
    "    ''' input grayscale array, output (16,) array '''\n",
    "    edges = cv2.Canny(img, 50, 150, apertureSize = 3)#Get the outline of the image\n",
    "    lines = cv2.HoughLines(edges,1,np.pi/180,threshold)\n",
    "    m = np.zeros((512,512))\n",
    "    for line in lines:\n",
    "        rho = line[0][0]\n",
    "        theta = line[0][1]\n",
    "        x = int(rho*np.cos(theta))\n",
    "        y = int(rho*np.sin(theta))\n",
    "        m[x, y] += 1\n",
    "    bsize = 128\n",
    "    return np.array([np.sum(m[i*bsize : (i+1)*bsize, j*bsize : (j+1)*bsize]) for j in range(4) for i in range(4)])"
   ]
  },
  {
   "cell_type": "markdown",
   "id": "a9afc83c",
   "metadata": {},
   "source": [
    "## Harris corner detection"
   ]
  },
  {
   "cell_type": "code",
   "execution_count": 7,
   "id": "f10f0365",
   "metadata": {},
   "outputs": [],
   "source": [
    "def getHarris_feature(gray, dim=300, bsize=75):\n",
    "    ''' The number of key points is 35, k=0.05, the window area for calculating gradient and differential is 10. Output (16,) array '''\n",
    "    corners = cv2.goodFeaturesToTrack(gray, 35, 0.05, 10,useHarrisDetector=True)\n",
    "    mat=np.zeros((dim,dim))\n",
    "    for i in range(len(corners)):\n",
    "        x=int(corners[i,0,0])\n",
    "        y=int(corners[i,0,1])\n",
    "        mat[x,y]=1\n",
    "    n=dim/bsize\n",
    "    f_list=list()\n",
    "    for i in range(int(n)):\n",
    "        for j in range(int(n)):\n",
    "            f_list.append(np.sum(mat[i*bsize:(i+1)*bsize,j*bsize:(j+1)*bsize]))\n",
    "    return np.array(f_list)"
   ]
  },
  {
   "cell_type": "markdown",
   "id": "af494db3",
   "metadata": {},
   "source": [
    "# Generate Dataframe"
   ]
  },
  {
   "cell_type": "code",
   "execution_count": 8,
   "id": "14e411a4",
   "metadata": {},
   "outputs": [],
   "source": [
    "# filepath is an absolute path\n",
    "def getFileName(filepath):\n",
    "    df_final = pd.DataFrame(columns=range(1,33))\n",
    "    pathList = os.listdir(filepath)\n",
    "    for allFile in pathList:\n",
    "        everyFile = os.path.join(filepath, allFile)# stitching file path\n",
    "        a = prepro(everyFile)\n",
    "        b=HL_n(a)\n",
    "        c = getHarris_feature(a)\n",
    "        d = np.hstack((b,c))\n",
    "        e = pd.DataFrame(data = d).T\n",
    "        df_final = pd.concat([e,df_final])\n",
    "\n",
    "    return df_final"
   ]
  },
  {
   "cell_type": "markdown",
   "id": "32275165",
   "metadata": {},
   "source": [
    "## Loading Data and Separating Train/Test\n"
   ]
  },
  {
   "cell_type": "markdown",
   "id": "558feb5f",
   "metadata": {},
   "source": [
    "### First DataSet"
   ]
  },
  {
   "cell_type": "code",
   "execution_count": 9,
   "id": "4ce5b05d",
   "metadata": {},
   "outputs": [],
   "source": [
    "wu = getFileName(r'C:\\Users\\xhw20\\Desktop\\dataset\\wu')\n",
    "wu.iloc[:,32]=1\n",
    "name = list()\n",
    "for i in range(len(wu)):\n",
    "    name.append('wu_' + str(i))\n",
    "wu.index = name"
   ]
  },
  {
   "cell_type": "code",
   "execution_count": 10,
   "id": "fa4d58c6",
   "metadata": {},
   "outputs": [],
   "source": [
    "kang = getFileName(r'C:\\Users\\xhw20\\Desktop\\dataset\\kang')\n",
    "kang.iloc[:,32]=0\n",
    "name = list()\n",
    "for i in range(len(kang)):\n",
    "    name.append('kang_' + str(i))\n",
    "kang.index = name"
   ]
  },
  {
   "cell_type": "code",
   "execution_count": 11,
   "id": "5edc6552",
   "metadata": {},
   "outputs": [],
   "source": [
    "yi = getFileName(r'C:\\Users\\xhw20\\Desktop\\dataset\\yi')\n",
    "yi.iloc[:,32]=0\n",
    "name = list()\n",
    "for i in range(len(yi)):\n",
    "    name.append('yi_' + str(i))\n",
    "yi.index = name"
   ]
  },
  {
   "cell_type": "code",
   "execution_count": 12,
   "id": "2290617c",
   "metadata": {},
   "outputs": [],
   "source": [
    "ji = getFileName(r'C:\\Users\\xhw20\\Desktop\\dataset\\ji')\n",
    "ji.iloc[:,32]=0\n",
    "name = list()\n",
    "for i in range(len(ji)):\n",
    "    name.append('ji_' + str(i))\n",
    "ji.index = name"
   ]
  },
  {
   "cell_type": "code",
   "execution_count": 13,
   "id": "22d71c93",
   "metadata": {},
   "outputs": [],
   "source": [
    "fu = getFileName(r'C:\\Users\\xhw20\\Desktop\\dataset\\fu')\n",
    "fu.iloc[:,32]=0\n",
    "name = list()\n",
    "for i in range(len(fu)):\n",
    "    name.append('fu_' + str(i))\n",
    "fu.index = name"
   ]
  },
  {
   "cell_type": "code",
   "execution_count": 18,
   "id": "1e31472f",
   "metadata": {},
   "outputs": [
    {
     "name": "stdout",
     "output_type": "stream",
     "text": [
      "(2197, 33)\n"
     ]
    },
    {
     "data": {
      "text/html": [
       "<div>\n",
       "<style scoped>\n",
       "    .dataframe tbody tr th:only-of-type {\n",
       "        vertical-align: middle;\n",
       "    }\n",
       "\n",
       "    .dataframe tbody tr th {\n",
       "        vertical-align: top;\n",
       "    }\n",
       "\n",
       "    .dataframe thead th {\n",
       "        text-align: right;\n",
       "    }\n",
       "</style>\n",
       "<table border=\"1\" class=\"dataframe\">\n",
       "  <thead>\n",
       "    <tr style=\"text-align: right;\">\n",
       "      <th></th>\n",
       "      <th>0</th>\n",
       "      <th>1</th>\n",
       "      <th>2</th>\n",
       "      <th>3</th>\n",
       "      <th>4</th>\n",
       "      <th>5</th>\n",
       "      <th>6</th>\n",
       "      <th>7</th>\n",
       "      <th>8</th>\n",
       "      <th>9</th>\n",
       "      <th>...</th>\n",
       "      <th>23</th>\n",
       "      <th>24</th>\n",
       "      <th>25</th>\n",
       "      <th>26</th>\n",
       "      <th>27</th>\n",
       "      <th>28</th>\n",
       "      <th>29</th>\n",
       "      <th>30</th>\n",
       "      <th>31</th>\n",
       "      <th>32</th>\n",
       "    </tr>\n",
       "  </thead>\n",
       "  <tbody>\n",
       "    <tr>\n",
       "      <th>wu_0</th>\n",
       "      <td>26.0</td>\n",
       "      <td>9.0</td>\n",
       "      <td>1.0</td>\n",
       "      <td>0.0</td>\n",
       "      <td>16.0</td>\n",
       "      <td>1.0</td>\n",
       "      <td>0.0</td>\n",
       "      <td>1.0</td>\n",
       "      <td>2.0</td>\n",
       "      <td>0.0</td>\n",
       "      <td>...</td>\n",
       "      <td>5.0</td>\n",
       "      <td>0.0</td>\n",
       "      <td>3.0</td>\n",
       "      <td>4.0</td>\n",
       "      <td>3.0</td>\n",
       "      <td>0.0</td>\n",
       "      <td>4.0</td>\n",
       "      <td>1.0</td>\n",
       "      <td>2.0</td>\n",
       "      <td>1</td>\n",
       "    </tr>\n",
       "    <tr>\n",
       "      <th>wu_1</th>\n",
       "      <td>13.0</td>\n",
       "      <td>1.0</td>\n",
       "      <td>0.0</td>\n",
       "      <td>0.0</td>\n",
       "      <td>21.0</td>\n",
       "      <td>1.0</td>\n",
       "      <td>0.0</td>\n",
       "      <td>2.0</td>\n",
       "      <td>0.0</td>\n",
       "      <td>0.0</td>\n",
       "      <td>...</td>\n",
       "      <td>0.0</td>\n",
       "      <td>0.0</td>\n",
       "      <td>7.0</td>\n",
       "      <td>6.0</td>\n",
       "      <td>0.0</td>\n",
       "      <td>0.0</td>\n",
       "      <td>1.0</td>\n",
       "      <td>2.0</td>\n",
       "      <td>0.0</td>\n",
       "      <td>1</td>\n",
       "    </tr>\n",
       "    <tr>\n",
       "      <th>wu_2</th>\n",
       "      <td>10.0</td>\n",
       "      <td>0.0</td>\n",
       "      <td>0.0</td>\n",
       "      <td>3.0</td>\n",
       "      <td>5.0</td>\n",
       "      <td>0.0</td>\n",
       "      <td>0.0</td>\n",
       "      <td>5.0</td>\n",
       "      <td>0.0</td>\n",
       "      <td>0.0</td>\n",
       "      <td>...</td>\n",
       "      <td>0.0</td>\n",
       "      <td>0.0</td>\n",
       "      <td>7.0</td>\n",
       "      <td>3.0</td>\n",
       "      <td>0.0</td>\n",
       "      <td>0.0</td>\n",
       "      <td>0.0</td>\n",
       "      <td>2.0</td>\n",
       "      <td>0.0</td>\n",
       "      <td>1</td>\n",
       "    </tr>\n",
       "    <tr>\n",
       "      <th>wu_3</th>\n",
       "      <td>7.0</td>\n",
       "      <td>7.0</td>\n",
       "      <td>0.0</td>\n",
       "      <td>0.0</td>\n",
       "      <td>2.0</td>\n",
       "      <td>0.0</td>\n",
       "      <td>0.0</td>\n",
       "      <td>2.0</td>\n",
       "      <td>0.0</td>\n",
       "      <td>0.0</td>\n",
       "      <td>...</td>\n",
       "      <td>1.0</td>\n",
       "      <td>2.0</td>\n",
       "      <td>10.0</td>\n",
       "      <td>4.0</td>\n",
       "      <td>0.0</td>\n",
       "      <td>0.0</td>\n",
       "      <td>0.0</td>\n",
       "      <td>2.0</td>\n",
       "      <td>0.0</td>\n",
       "      <td>1</td>\n",
       "    </tr>\n",
       "    <tr>\n",
       "      <th>wu_4</th>\n",
       "      <td>12.0</td>\n",
       "      <td>1.0</td>\n",
       "      <td>0.0</td>\n",
       "      <td>1.0</td>\n",
       "      <td>2.0</td>\n",
       "      <td>1.0</td>\n",
       "      <td>0.0</td>\n",
       "      <td>0.0</td>\n",
       "      <td>0.0</td>\n",
       "      <td>0.0</td>\n",
       "      <td>...</td>\n",
       "      <td>1.0</td>\n",
       "      <td>1.0</td>\n",
       "      <td>8.0</td>\n",
       "      <td>4.0</td>\n",
       "      <td>0.0</td>\n",
       "      <td>0.0</td>\n",
       "      <td>3.0</td>\n",
       "      <td>3.0</td>\n",
       "      <td>0.0</td>\n",
       "      <td>1</td>\n",
       "    </tr>\n",
       "  </tbody>\n",
       "</table>\n",
       "<p>5 rows × 33 columns</p>\n",
       "</div>"
      ],
      "text/plain": [
       "        0    1    2    3     4    5    6    7    8    9   ...   23   24    25  \\\n",
       "wu_0  26.0  9.0  1.0  0.0  16.0  1.0  0.0  1.0  2.0  0.0  ...  5.0  0.0   3.0   \n",
       "wu_1  13.0  1.0  0.0  0.0  21.0  1.0  0.0  2.0  0.0  0.0  ...  0.0  0.0   7.0   \n",
       "wu_2  10.0  0.0  0.0  3.0   5.0  0.0  0.0  5.0  0.0  0.0  ...  0.0  0.0   7.0   \n",
       "wu_3   7.0  7.0  0.0  0.0   2.0  0.0  0.0  2.0  0.0  0.0  ...  1.0  2.0  10.0   \n",
       "wu_4  12.0  1.0  0.0  1.0   2.0  1.0  0.0  0.0  0.0  0.0  ...  1.0  1.0   8.0   \n",
       "\n",
       "       26   27   28   29   30   31 32  \n",
       "wu_0  4.0  3.0  0.0  4.0  1.0  2.0  1  \n",
       "wu_1  6.0  0.0  0.0  1.0  2.0  0.0  1  \n",
       "wu_2  3.0  0.0  0.0  0.0  2.0  0.0  1  \n",
       "wu_3  4.0  0.0  0.0  0.0  2.0  0.0  1  \n",
       "wu_4  4.0  0.0  0.0  3.0  3.0  0.0  1  \n",
       "\n",
       "[5 rows x 33 columns]"
      ]
     },
     "execution_count": 18,
     "metadata": {},
     "output_type": "execute_result"
    }
   ],
   "source": [
    "first_data = pd.concat([wu,kang,yi,ji,fu], axis = 0)\n",
    "print(first_data.shape)\n",
    "first_data.head()"
   ]
  },
  {
   "cell_type": "code",
   "execution_count": 21,
   "id": "0f9c4642",
   "metadata": {},
   "outputs": [],
   "source": [
    "#first_data.to_csv('/Users/gracean/Desktop/Data Mining/Project2/first_data.csv')"
   ]
  },
  {
   "cell_type": "code",
   "execution_count": 19,
   "id": "b6291ee1",
   "metadata": {},
   "outputs": [
    {
     "name": "stderr",
     "output_type": "stream",
     "text": [
      "C:\\Users\\xhw20\\.conda\\envs\\tensorflowgpu\\lib\\site-packages\\numpy\\lib\\function_base.py:2559: RuntimeWarning: invalid value encountered in true_divide\n",
      "  c /= stddev[:, None]\n",
      "C:\\Users\\xhw20\\.conda\\envs\\tensorflowgpu\\lib\\site-packages\\numpy\\lib\\function_base.py:2560: RuntimeWarning: invalid value encountered in true_divide\n",
      "  c /= stddev[None, :]\n"
     ]
    },
    {
     "data": {
      "text/plain": [
       "<AxesSubplot:>"
      ]
     },
     "execution_count": 19,
     "metadata": {},
     "output_type": "execute_result"
    },
    {
     "data": {
      "image/png": "[encoded data removed]",
      "text/plain": [
       "<Figure size 432x288 with 2 Axes>"
      ]
     },
     "metadata": {
      "needs_background": "light"
     },
     "output_type": "display_data"
    }
   ],
   "source": [
    "#df is dataframe what we need to build correlation matrix\n",
    "df = first_data.iloc[:,0:32]\n",
    "correlations =np.corrcoef(df.astype(float),rowvar=0)\n",
    "import seaborn as sns\n",
    "sns.set_context({\"figure.figsize\":(10,10)})\n",
    "sns.heatmap(correlations)"
   ]
  },
  {
   "cell_type": "markdown",
   "id": "f3a5fa92",
   "metadata": {},
   "source": [
    "### Second Dataset"
   ]
  },
  {
   "cell_type": "code",
   "execution_count": 21,
   "id": "3f754797",
   "metadata": {},
   "outputs": [],
   "source": [
    "shang = getFileName(r'C:\\Users\\xhw20\\Desktop\\The second dataset\\shang')\n",
    "shang.iloc[:,32]=0\n",
    "name = list()\n",
    "for i in range(len(shang)):\n",
    "    name.append('shang_' + str(i))\n",
    "shang.index = name"
   ]
  },
  {
   "cell_type": "code",
   "execution_count": 22,
   "id": "bcef6b25",
   "metadata": {},
   "outputs": [],
   "source": [
    "wan = getFileName(r'C:\\Users\\xhw20\\Desktop\\The second dataset\\wan')\n",
    "wan.iloc[:,32]=0\n",
    "name = list()\n",
    "for i in range(len(wan)):\n",
    "    name.append('wan_' + str(i))\n",
    "wan.index = name"
   ]
  },
  {
   "cell_type": "code",
   "execution_count": 23,
   "id": "5b83b29b",
   "metadata": {},
   "outputs": [],
   "source": [
    "ge = getFileName(r'C:\\Users\\xhw20\\Desktop\\The second dataset\\ge')\n",
    "ge.iloc[:,32]=0\n",
    "name = list()\n",
    "for i in range(len(ge)):\n",
    "    name.append('ge_' + str(i))\n",
    "ge.index = name"
   ]
  },
  {
   "cell_type": "code",
   "execution_count": 24,
   "id": "30636bab",
   "metadata": {},
   "outputs": [],
   "source": [
    "cheng = getFileName(r'C:\\Users\\xhw20\\Desktop\\The second dataset\\cheng')\n",
    "cheng.iloc[:,32]=0\n",
    "name = list()\n",
    "for i in range(len(cheng)):\n",
    "    name.append('cheng_' + str(i))\n",
    "cheng.index = name"
   ]
  },
  {
   "cell_type": "code",
   "execution_count": 26,
   "id": "a3db8bd2",
   "metadata": {},
   "outputs": [
    {
     "name": "stdout",
     "output_type": "stream",
     "text": [
      "(2197, 33)\n"
     ]
    },
    {
     "data": {
      "text/html": [
       "<div>\n",
       "<style scoped>\n",
       "    .dataframe tbody tr th:only-of-type {\n",
       "        vertical-align: middle;\n",
       "    }\n",
       "\n",
       "    .dataframe tbody tr th {\n",
       "        vertical-align: top;\n",
       "    }\n",
       "\n",
       "    .dataframe thead th {\n",
       "        text-align: right;\n",
       "    }\n",
       "</style>\n",
       "<table border=\"1\" class=\"dataframe\">\n",
       "  <thead>\n",
       "    <tr style=\"text-align: right;\">\n",
       "      <th></th>\n",
       "      <th>0</th>\n",
       "      <th>1</th>\n",
       "      <th>2</th>\n",
       "      <th>3</th>\n",
       "      <th>4</th>\n",
       "      <th>5</th>\n",
       "      <th>6</th>\n",
       "      <th>7</th>\n",
       "      <th>8</th>\n",
       "      <th>9</th>\n",
       "      <th>...</th>\n",
       "      <th>23</th>\n",
       "      <th>24</th>\n",
       "      <th>25</th>\n",
       "      <th>26</th>\n",
       "      <th>27</th>\n",
       "      <th>28</th>\n",
       "      <th>29</th>\n",
       "      <th>30</th>\n",
       "      <th>31</th>\n",
       "      <th>32</th>\n",
       "    </tr>\n",
       "  </thead>\n",
       "  <tbody>\n",
       "    <tr>\n",
       "      <th>wu_0</th>\n",
       "      <td>26.0</td>\n",
       "      <td>9.0</td>\n",
       "      <td>1.0</td>\n",
       "      <td>0.0</td>\n",
       "      <td>16.0</td>\n",
       "      <td>1.0</td>\n",
       "      <td>0.0</td>\n",
       "      <td>1.0</td>\n",
       "      <td>2.0</td>\n",
       "      <td>0.0</td>\n",
       "      <td>...</td>\n",
       "      <td>5.0</td>\n",
       "      <td>0.0</td>\n",
       "      <td>3.0</td>\n",
       "      <td>4.0</td>\n",
       "      <td>3.0</td>\n",
       "      <td>0.0</td>\n",
       "      <td>4.0</td>\n",
       "      <td>1.0</td>\n",
       "      <td>2.0</td>\n",
       "      <td>1</td>\n",
       "    </tr>\n",
       "    <tr>\n",
       "      <th>wu_1</th>\n",
       "      <td>13.0</td>\n",
       "      <td>1.0</td>\n",
       "      <td>0.0</td>\n",
       "      <td>0.0</td>\n",
       "      <td>21.0</td>\n",
       "      <td>1.0</td>\n",
       "      <td>0.0</td>\n",
       "      <td>2.0</td>\n",
       "      <td>0.0</td>\n",
       "      <td>0.0</td>\n",
       "      <td>...</td>\n",
       "      <td>0.0</td>\n",
       "      <td>0.0</td>\n",
       "      <td>7.0</td>\n",
       "      <td>6.0</td>\n",
       "      <td>0.0</td>\n",
       "      <td>0.0</td>\n",
       "      <td>1.0</td>\n",
       "      <td>2.0</td>\n",
       "      <td>0.0</td>\n",
       "      <td>1</td>\n",
       "    </tr>\n",
       "    <tr>\n",
       "      <th>wu_2</th>\n",
       "      <td>10.0</td>\n",
       "      <td>0.0</td>\n",
       "      <td>0.0</td>\n",
       "      <td>3.0</td>\n",
       "      <td>5.0</td>\n",
       "      <td>0.0</td>\n",
       "      <td>0.0</td>\n",
       "      <td>5.0</td>\n",
       "      <td>0.0</td>\n",
       "      <td>0.0</td>\n",
       "      <td>...</td>\n",
       "      <td>0.0</td>\n",
       "      <td>0.0</td>\n",
       "      <td>7.0</td>\n",
       "      <td>3.0</td>\n",
       "      <td>0.0</td>\n",
       "      <td>0.0</td>\n",
       "      <td>0.0</td>\n",
       "      <td>2.0</td>\n",
       "      <td>0.0</td>\n",
       "      <td>1</td>\n",
       "    </tr>\n",
       "    <tr>\n",
       "      <th>wu_3</th>\n",
       "      <td>7.0</td>\n",
       "      <td>7.0</td>\n",
       "      <td>0.0</td>\n",
       "      <td>0.0</td>\n",
       "      <td>2.0</td>\n",
       "      <td>0.0</td>\n",
       "      <td>0.0</td>\n",
       "      <td>2.0</td>\n",
       "      <td>0.0</td>\n",
       "      <td>0.0</td>\n",
       "      <td>...</td>\n",
       "      <td>1.0</td>\n",
       "      <td>2.0</td>\n",
       "      <td>10.0</td>\n",
       "      <td>4.0</td>\n",
       "      <td>0.0</td>\n",
       "      <td>0.0</td>\n",
       "      <td>0.0</td>\n",
       "      <td>2.0</td>\n",
       "      <td>0.0</td>\n",
       "      <td>1</td>\n",
       "    </tr>\n",
       "    <tr>\n",
       "      <th>wu_4</th>\n",
       "      <td>12.0</td>\n",
       "      <td>1.0</td>\n",
       "      <td>0.0</td>\n",
       "      <td>1.0</td>\n",
       "      <td>2.0</td>\n",
       "      <td>1.0</td>\n",
       "      <td>0.0</td>\n",
       "      <td>0.0</td>\n",
       "      <td>0.0</td>\n",
       "      <td>0.0</td>\n",
       "      <td>...</td>\n",
       "      <td>1.0</td>\n",
       "      <td>1.0</td>\n",
       "      <td>8.0</td>\n",
       "      <td>4.0</td>\n",
       "      <td>0.0</td>\n",
       "      <td>0.0</td>\n",
       "      <td>3.0</td>\n",
       "      <td>3.0</td>\n",
       "      <td>0.0</td>\n",
       "      <td>1</td>\n",
       "    </tr>\n",
       "  </tbody>\n",
       "</table>\n",
       "<p>5 rows × 33 columns</p>\n",
       "</div>"
      ],
      "text/plain": [
       "        0    1    2    3     4    5    6    7    8    9   ...   23   24    25  \\\n",
       "wu_0  26.0  9.0  1.0  0.0  16.0  1.0  0.0  1.0  2.0  0.0  ...  5.0  0.0   3.0   \n",
       "wu_1  13.0  1.0  0.0  0.0  21.0  1.0  0.0  2.0  0.0  0.0  ...  0.0  0.0   7.0   \n",
       "wu_2  10.0  0.0  0.0  3.0   5.0  0.0  0.0  5.0  0.0  0.0  ...  0.0  0.0   7.0   \n",
       "wu_3   7.0  7.0  0.0  0.0   2.0  0.0  0.0  2.0  0.0  0.0  ...  1.0  2.0  10.0   \n",
       "wu_4  12.0  1.0  0.0  1.0   2.0  1.0  0.0  0.0  0.0  0.0  ...  1.0  1.0   8.0   \n",
       "\n",
       "       26   27   28   29   30   31 32  \n",
       "wu_0  4.0  3.0  0.0  4.0  1.0  2.0  1  \n",
       "wu_1  6.0  0.0  0.0  1.0  2.0  0.0  1  \n",
       "wu_2  3.0  0.0  0.0  0.0  2.0  0.0  1  \n",
       "wu_3  4.0  0.0  0.0  0.0  2.0  0.0  1  \n",
       "wu_4  4.0  0.0  0.0  3.0  3.0  0.0  1  \n",
       "\n",
       "[5 rows x 33 columns]"
      ]
     },
     "execution_count": 26,
     "metadata": {},
     "output_type": "execute_result"
    }
   ],
   "source": [
    "second_data = pd.concat([wu,shang,wan,ge,cheng], axis = 0)\n",
    "print(second_data.shape)\n",
    "second_data.head()"
   ]
  },
  {
   "cell_type": "code",
   "execution_count": null,
   "id": "d78dd784",
   "metadata": {},
   "outputs": [],
   "source": [
    "#second_data.to_csv('/Users/gracean/Desktop/Data Mining/Project2/second_data.csv')"
   ]
  },
  {
   "cell_type": "code",
   "execution_count": 27,
   "id": "c0146e23",
   "metadata": {},
   "outputs": [
    {
     "name": "stderr",
     "output_type": "stream",
     "text": [
      "C:\\Users\\xhw20\\.conda\\envs\\tensorflowgpu\\lib\\site-packages\\numpy\\lib\\function_base.py:2559: RuntimeWarning: invalid value encountered in true_divide\n",
      "  c /= stddev[:, None]\n",
      "C:\\Users\\xhw20\\.conda\\envs\\tensorflowgpu\\lib\\site-packages\\numpy\\lib\\function_base.py:2560: RuntimeWarning: invalid value encountered in true_divide\n",
      "  c /= stddev[None, :]\n"
     ]
    },
    {
     "data": {
      "text/plain": [
       "<AxesSubplot:>"
      ]
     },
     "execution_count": 27,
     "metadata": {},
     "output_type": "execute_result"
    },
    {
     "data": {
      "image/png": "[encoded data removed]",
      "text/plain": [
       "<Figure size 720x720 with 2 Axes>"
      ]
     },
     "metadata": {
      "needs_background": "light"
     },
     "output_type": "display_data"
    }
   ],
   "source": [
    "df2 = second_data.iloc[:,0:32]\n",
    "correlations2 =np.corrcoef(df2.astype(float),rowvar=0)\n",
    "import seaborn as sns\n",
    "sns.set_context({\"figure.figsize\":(10,10)})\n",
    "sns.heatmap(correlations2)"
   ]
  },
  {
   "cell_type": "markdown",
   "id": "c3a96f6c",
   "metadata": {},
   "source": [
    "## Split Train and Test for random forest and logistic regression model"
   ]
  },
  {
   "cell_type": "code",
   "execution_count": 30,
   "id": "dcfcc75d",
   "metadata": {},
   "outputs": [],
   "source": [
    "#Train v.s. Test set for first dataset\n",
    "train_wu, test_wu = train_test_split(wu, test_size=0.2)\n",
    "train_kang, test_kang = train_test_split(kang, test_size=0.2)\n",
    "train_yi, test_yi = train_test_split(yi, test_size=0.2)\n",
    "train_ji, test_ji = train_test_split(ji, test_size=0.2)\n",
    "train_fu, test_fu = train_test_split(fu, test_size=0.2)\n",
    "\n",
    "train_data_1 = pd.concat([train_wu,train_kang,train_yi, train_ji, train_fu],axis=0)\n",
    "test_data_1 = pd.concat([test_wu, test_kang, test_yi, test_ji, test_fu], axis = 0)\n",
    "\n",
    "train1_x = train_data_1.iloc[:,0:32]\n",
    "train1_y =train_data_1.iloc[:,32]\n",
    "test1_x = test_data_1.iloc[:,0:32]\n",
    "test1_y =test_data_1.iloc[:,32]"
   ]
  },
  {
   "cell_type": "code",
   "execution_count": 31,
   "id": "a9e2cd9e",
   "metadata": {},
   "outputs": [],
   "source": [
    "#Train v.s. Test set for second dataset\n",
    "train_wu, test_wu = train_test_split(wu, test_size=0.2)\n",
    "train_cheng, test_cheng = train_test_split(cheng, test_size=0.2)\n",
    "train_ge, test_ge = train_test_split(ge, test_size=0.2)\n",
    "train_wan, test_wan = train_test_split(wan, test_size=0.2)\n",
    "train_shang, test_shang = train_test_split(shang, test_size=0.2)\n",
    "\n",
    "train_data_2 = pd.concat([train_wu,train_cheng,train_ge, train_wan, train_shang],axis=0)\n",
    "test_data_2 = pd.concat([test_wu, test_cheng, test_ge, test_wan, test_shang], axis = 0)\n",
    "\n",
    "train2_x = train_data_2.iloc[:,0:32]\n",
    "train2_y =train_data_2.iloc[:,32]\n",
    "test2_x = test_data_2.iloc[:,0:32]\n",
    "test2_y =test_data_2.iloc[:,32]"
   ]
  },
  {
   "cell_type": "markdown",
   "id": "fdd45311",
   "metadata": {},
   "source": [
    "## Model building"
   ]
  },
  {
   "cell_type": "code",
   "execution_count": 32,
   "id": "6dd718c7",
   "metadata": {},
   "outputs": [],
   "source": [
    "def plot_confusion_matrix(cm, labels_name, title):\n",
    "    np.set_printoptions(precision=2)\n",
    "    # print(cm)\n",
    "    plt.imshow(cm, interpolation='nearest')    # Display the image on a specific window\n",
    "    plt.title(title)    # title\n",
    "    plt.colorbar()\n",
    "    num_local = np.array(range(len(labels_name)))    \n",
    "    plt.xticks(num_local, labels_name, rotation=90)    \n",
    "    plt.yticks(num_local, labels_name)  \n",
    "    plt.ylabel('True label')    \n",
    "    plt.xlabel('Predicted label')"
   ]
  },
  {
   "cell_type": "markdown",
   "id": "0028c343",
   "metadata": {},
   "source": [
    "### Model 0 “base rate” of natural turnover"
   ]
  },
  {
   "cell_type": "code",
   "execution_count": 33,
   "id": "dcfeba20",
   "metadata": {},
   "outputs": [
    {
     "data": {
      "text/plain": [
       "0    322\n",
       "1    119\n",
       "Name: 32, dtype: int64"
      ]
     },
     "execution_count": 33,
     "metadata": {},
     "output_type": "execute_result"
    }
   ],
   "source": [
    "test1_y.value_counts()"
   ]
  },
  {
   "cell_type": "code",
   "execution_count": 34,
   "id": "df65e8f8",
   "metadata": {},
   "outputs": [],
   "source": [
    "p= 595/2197\n",
    "ntest= 322+119\n",
    "predict_ran = np.random.binomial(1, p, ntest)"
   ]
  },
  {
   "cell_type": "code",
   "execution_count": 35,
   "id": "2baab500",
   "metadata": {},
   "outputs": [
    {
     "name": "stdout",
     "output_type": "stream",
     "text": [
      "confusion matrix:\n",
      " [[251  71]\n",
      " [ 91  28]]\n",
      "confusion matrix:\n",
      " [[0.77950311 0.22049689]\n",
      " [0.76470588 0.23529412]]\n",
      "              precision    recall  f1-score   support\n",
      "\n",
      "           0       0.73      0.78      0.76       322\n",
      "           1       0.28      0.24      0.26       119\n",
      "\n",
      "    accuracy                           0.63       441\n",
      "   macro avg       0.51      0.51      0.51       441\n",
      "weighted avg       0.61      0.63      0.62       441\n",
      "\n"
     ]
    },
    {
     "data": {
      "image/png": "[encoded data removed]",
      "text/plain": [
       "<Figure size 720x720 with 2 Axes>"
      ]
     },
     "metadata": {
      "needs_background": "light"
     },
     "output_type": "display_data"
    }
   ],
   "source": [
    "y_actual = pd.Series(test1_y, name='Actual')\n",
    "y_predicted = pd.Series(predict_ran, name='Predicted')\n",
    "\n",
    "#create confusion matrix\n",
    "\n",
    "cm = confusion_matrix(y_actual, y_predicted)\n",
    "print('confusion matrix:\\n',cm)\n",
    "cm = cm.astype('float') / cm.sum(axis=1)[:, np.newaxis]    # Normalized\n",
    "print('confusion matrix:\\n',cm)\n",
    "labels = [0,1]  #Collection of categories\n",
    "plot_confusion_matrix(cm,labels,'confusion_matrix')\n",
    "print(SkM.classification_report(y_actual, y_predicted))"
   ]
  },
  {
   "cell_type": "markdown",
   "id": "629580df",
   "metadata": {},
   "source": [
    "### Model 1 Random forest"
   ]
  },
  {
   "cell_type": "markdown",
   "id": "b7bd4abd",
   "metadata": {},
   "source": [
    "dataset1"
   ]
  },
  {
   "cell_type": "code",
   "execution_count": 36,
   "id": "0cd78a14",
   "metadata": {},
   "outputs": [],
   "source": [
    "rf_model = SkE.RandomForestClassifier(random_state=0, class_weight='balanced')\n",
    "rf_model.fit(train1_x, train1_y)\n",
    "#prediction of training dataset\n",
    "y_pred_rf = rf_model.predict(test1_x)"
   ]
  },
  {
   "cell_type": "code",
   "execution_count": 37,
   "id": "9ff568f2",
   "metadata": {},
   "outputs": [
    {
     "name": "stdout",
     "output_type": "stream",
     "text": [
      "confusion matrix:\n",
      " [[315   7]\n",
      " [ 29  90]]\n",
      "confusion matrix:\n",
      " [[0.98 0.02]\n",
      " [0.24 0.76]]\n",
      "              precision    recall  f1-score   support\n",
      "\n",
      "           0       0.92      0.98      0.95       322\n",
      "           1       0.93      0.76      0.83       119\n",
      "\n",
      "    accuracy                           0.92       441\n",
      "   macro avg       0.92      0.87      0.89       441\n",
      "weighted avg       0.92      0.92      0.92       441\n",
      "\n"
     ]
    },
    {
     "data": {
      "image/png": "[encoded data removed]",
      "text/plain": [
       "<Figure size 720x720 with 2 Axes>"
      ]
     },
     "metadata": {
      "needs_background": "light"
     },
     "output_type": "display_data"
    }
   ],
   "source": [
    "#getting confusion matrix\n",
    "cm_rf = confusion_matrix(test1_y,y_pred_rf)\n",
    "print('confusion matrix:\\n',cm_rf)\n",
    "cm_rf = cm_rf.astype('float') / cm_rf.sum(axis=1)[:, np.newaxis]  \n",
    "print('confusion matrix:\\n',cm_rf)\n",
    "labels = [0,1]  \n",
    "plot_confusion_matrix(cm_rf,labels,'confusion_matrix')\n",
    "print(SkM.classification_report(test1_y,y_pred_rf))"
   ]
  },
  {
   "cell_type": "markdown",
   "id": "6ce49791",
   "metadata": {},
   "source": [
    "Dataset 2"
   ]
  },
  {
   "cell_type": "code",
   "execution_count": 39,
   "id": "37a55d63",
   "metadata": {},
   "outputs": [
    {
     "name": "stdout",
     "output_type": "stream",
     "text": [
      "confusion matrix:\n",
      " [[316   6]\n",
      " [ 15 104]]\n",
      "confusion matrix:\n",
      " [[0.98 0.02]\n",
      " [0.13 0.87]]\n",
      "              precision    recall  f1-score   support\n",
      "\n",
      "           0       0.95      0.98      0.97       322\n",
      "           1       0.95      0.87      0.91       119\n",
      "\n",
      "    accuracy                           0.95       441\n",
      "   macro avg       0.95      0.93      0.94       441\n",
      "weighted avg       0.95      0.95      0.95       441\n",
      "\n"
     ]
    },
    {
     "data": {
      "image/png": "[encoded data removed]",
      "text/plain": [
       "<Figure size 720x720 with 2 Axes>"
      ]
     },
     "metadata": {
      "needs_background": "light"
     },
     "output_type": "display_data"
    }
   ],
   "source": [
    "rf_model = SkE.RandomForestClassifier(random_state=0, class_weight='balanced')\n",
    "rf_model.fit(train2_x, train2_y)\n",
    "#prediction of training dataset\n",
    "y_pred_rf2 = rf_model.predict(test2_x)\n",
    "#getting confusion matrix\n",
    "cm_rf2 = confusion_matrix(test2_y,y_pred_rf2)\n",
    "print('confusion matrix:\\n',cm_rf2)\n",
    "cm_rf2 = cm_rf2.astype('float') / cm_rf2.sum(axis=1)[:, np.newaxis]    \n",
    "print('confusion matrix:\\n',cm_rf2)\n",
    "labels = [0,1]  #set of label\n",
    "plot_confusion_matrix(cm_rf2,labels,'confusion_matrix')\n",
    "print(SkM.classification_report(test2_y,y_pred_rf2))"
   ]
  },
  {
   "cell_type": "markdown",
   "id": "2538ab6c",
   "metadata": {},
   "source": [
    "### Model 2 Logistic model"
   ]
  },
  {
   "cell_type": "markdown",
   "id": "da83ca3e",
   "metadata": {},
   "source": [
    "dataset1"
   ]
  },
  {
   "cell_type": "code",
   "execution_count": 40,
   "id": "983228ad",
   "metadata": {},
   "outputs": [],
   "source": [
    "log_model = SkLm.LogisticRegression(random_state=0, n_jobs=31, class_weight='balanced')\n",
    "log_model.fit(train1_x, train1_y)\n",
    "#prediction of training dataset\n",
    "y_pred_log1 = log_model.predict(test1_x)"
   ]
  },
  {
   "cell_type": "code",
   "execution_count": 41,
   "id": "208e085f",
   "metadata": {},
   "outputs": [
    {
     "name": "stdout",
     "output_type": "stream",
     "text": [
      "confusion matrix:\n",
      " [[287  35]\n",
      " [ 14 105]]\n",
      "confusion matrix:\n",
      " [[0.89 0.11]\n",
      " [0.12 0.88]]\n",
      "              precision    recall  f1-score   support\n",
      "\n",
      "           0       0.95      0.89      0.92       322\n",
      "           1       0.75      0.88      0.81       119\n",
      "\n",
      "    accuracy                           0.89       441\n",
      "   macro avg       0.85      0.89      0.87       441\n",
      "weighted avg       0.90      0.89      0.89       441\n",
      "\n"
     ]
    },
    {
     "data": {
      "image/png": "[encoded data removed]",
      "text/plain": [
       "<Figure size 720x720 with 2 Axes>"
      ]
     },
     "metadata": {
      "needs_background": "light"
     },
     "output_type": "display_data"
    }
   ],
   "source": [
    "#getting confusion matrix\n",
    "from sklearn.metrics import confusion_matrix,classification_report\n",
    "cm_log1 = confusion_matrix(test1_y,y_pred_log1)\n",
    "print('confusion matrix:\\n',cm_log1)\n",
    "cm_log1 = cm_log1.astype('float') / cm_log1.sum(axis=1)[:, np.newaxis]    \n",
    "print('confusion matrix:\\n',cm_log1)\n",
    "labels = [0,1] \n",
    "plot_confusion_matrix(cm_log1,labels,'confusion_matrix')\n",
    "print(SkM.classification_report(test1_y,y_pred_log1))"
   ]
  },
  {
   "cell_type": "markdown",
   "id": "6878bba4",
   "metadata": {},
   "source": [
    "Dataset2"
   ]
  },
  {
   "cell_type": "code",
   "execution_count": 48,
   "id": "e4f991e0",
   "metadata": {},
   "outputs": [
    {
     "name": "stdout",
     "output_type": "stream",
     "text": [
      "confusion matrix:\n",
      " [[296  26]\n",
      " [ 14 105]]\n",
      "confusion matrix:\n",
      " [[0.92 0.08]\n",
      " [0.12 0.88]]\n",
      "              precision    recall  f1-score   support\n",
      "\n",
      "           0       0.95      0.92      0.94       322\n",
      "           1       0.80      0.88      0.84       119\n",
      "\n",
      "    accuracy                           0.91       441\n",
      "   macro avg       0.88      0.90      0.89       441\n",
      "weighted avg       0.91      0.91      0.91       441\n",
      "\n"
     ]
    },
    {
     "data": {
      "image/png": "[encoded data removed]",
      "text/plain": [
       "<Figure size 720x720 with 2 Axes>"
      ]
     },
     "metadata": {
      "needs_background": "light"
     },
     "output_type": "display_data"
    }
   ],
   "source": [
    "log_model = SkLm.LogisticRegression(random_state=0, n_jobs=31, class_weight='balanced')\n",
    "log_model.fit(train2_x, train2_y)\n",
    "#prediction of training dataset\n",
    "y_pred_log2 = log_model.predict(test2_x)\n",
    "#getting confusion matrix\n",
    "cm_log2 = confusion_matrix(test2_y,y_pred_log2)\n",
    "print('confusion matrix:\\n',cm_log2)\n",
    "cm_log2 = cm_log2.astype('float') / cm_log2.sum(axis=1)[:, np.newaxis]    \n",
    "print('confusion matrix:\\n',cm_log2)\n",
    "labels = [0,1] \n",
    "plot_confusion_matrix(cm_log2,labels,'confusion_matrix')\n",
    "print(SkM.classification_report(test2_y,y_pred_log2))"
   ]
  },
  {
   "cell_type": "markdown",
   "id": "e30c9749",
   "metadata": {},
   "source": [
    "### Tensorflow model"
   ]
  },
  {
   "cell_type": "markdown",
   "id": "02ab6a71",
   "metadata": {},
   "source": [
    "split trainset again to get the proper step"
   ]
  },
  {
   "cell_type": "code",
   "execution_count": 49,
   "id": "40a09f19",
   "metadata": {},
   "outputs": [],
   "source": [
    "#split first dataset in advance\n",
    "train_data1,step_test1 = train_test_split(train_data_1, test_size=0.2)\n",
    "train1_x = train_data1.iloc[:,0:32]\n",
    "train1_y = train_data1.iloc[:,32]\n",
    "step1_x = step_test1.iloc[:,0:32]\n",
    "step1_y = step_test1.iloc[:,32]"
   ]
  },
  {
   "cell_type": "code",
   "execution_count": 50,
   "id": "5bba8bb7",
   "metadata": {},
   "outputs": [],
   "source": [
    "#second dataset\n",
    "train_data2,step_test2 = train_test_split(train_data_2, test_size=0.2)\n",
    "train2_x = train_data2.iloc[:,0:32]\n",
    "train2_y = train_data2.iloc[:,32]\n",
    "step2_x = step_test2.iloc[:,0:32]\n",
    "step2_y = step_test2.iloc[:,32]"
   ]
  },
  {
   "cell_type": "markdown",
   "id": "931f6333",
   "metadata": {},
   "source": [
    "run_model"
   ]
  },
  {
   "cell_type": "markdown",
   "id": "1518f010",
   "metadata": {},
   "source": [
    "first_dataset"
   ]
  },
  {
   "cell_type": "code",
   "execution_count": 184,
   "id": "7240581e",
   "metadata": {},
   "outputs": [],
   "source": [
    "x_array = np.array(train1_x).astype('float')\n",
    "train1_x = torch.tensor(x_array)\n",
    "y_array = np.array(train1_y).astype('long')\n",
    "train1_y = torch.tensor(y_array)\n",
    "\n",
    "xt_array = np.array(step1_x).astype('float')\n",
    "step1_x = torch.tensor(xt_array)\n",
    "xt_array = np.array(test1_x).astype('float')\n",
    "test1_x = torch.tensor(xt_array)\n",
    "total_step = 200\n",
    "\n",
    "b = list(range(1,31))"
   ]
  },
  {
   "cell_type": "code",
   "execution_count": 196,
   "id": "5134ff08",
   "metadata": {},
   "outputs": [],
   "source": [
    "import random\n",
    "# SGD method\n",
    "class NeuralNet(nn.Module):\n",
    "    def __init__(self, input_size, hidden_size,num_classes):\n",
    "        super(NeuralNet, self).__init__()\n",
    "        self.fc1 = nn.Linear(input_size, hidden_size)\n",
    "        self.relu = nn.ReLU()\n",
    "        self.fc2 = nn.Linear(hidden_size, num_classes)\n",
    "    def forward(self, x):\n",
    "        out = self.fc1(x)\n",
    "        out = self.relu(out)\n",
    "        out = self.fc2(out)\n",
    "        return out\n",
    "netv1 = NeuralNet(32, 9, 2)\n",
    "cr = nn.CrossEntropyLoss() # loss function\n",
    "optimizer = torch.optim.SGD(netv1.parameters(), lr=.02)"
   ]
  },
  {
   "cell_type": "code",
   "execution_count": 197,
   "id": "67281094",
   "metadata": {},
   "outputs": [],
   "source": [
    "for j in range(31):\n",
    "    for i in range(total_step):\n",
    "        outputs = netv1(train1_x.float())\n",
    "        loss = cr(outputs, train1_y.long())\n",
    "        optimizer.zero_grad() # # Gradient reset\n",
    "        loss.backward() #For loss function BP\n",
    "        optimizer.step()\n",
    "    with torch.no_grad():\n",
    "        out = netv1(step1_x.float())\n",
    "        _, predicted = torch.max(out.data, 1)\n",
    "        pre = predicted.numpy().tolist()\n",
    "    b[j-1] = \"{:.3f}\".format(f1_score(step1_y, pre))"
   ]
  },
  {
   "cell_type": "code",
   "execution_count": 198,
   "id": "62643467",
   "metadata": {},
   "outputs": [
    {
     "data": {
      "text/plain": [
       "1800"
      ]
     },
     "execution_count": 198,
     "metadata": {},
     "output_type": "execute_result"
    }
   ],
   "source": [
    "(b.index(max(b))+1)*200"
   ]
  },
  {
   "cell_type": "code",
   "execution_count": 199,
   "id": "0596b7f6",
   "metadata": {},
   "outputs": [],
   "source": [
    "class NeuralNet(nn.Module):\n",
    "    def __init__(self, input_size, hidden_size,num_classes):\n",
    "        super(NeuralNet, self).__init__()\n",
    "        self.fc1 = nn.Linear(input_size, hidden_size)\n",
    "        self.relu = nn.ReLU()\n",
    "        self.fc2 = nn.Linear(hidden_size, num_classes)\n",
    "    def forward(self, x):\n",
    "        out = self.fc1(x)\n",
    "        out = self.relu(out)\n",
    "        out = self.fc2(out)\n",
    "        return out\n",
    "netv1 = NeuralNet(32, 9, 2)\n",
    "cr = nn.CrossEntropyLoss() # loss function\n",
    "optimizer = torch.optim.SGD(netv1.parameters(), lr=.02)\n",
    "for i in range(1800):\n",
    "    outputs = netv1(train1_x.float())\n",
    "    loss = cr(outputs, train1_y.long())\n",
    "    optimizer.zero_grad() #\n",
    "    loss.backward() \n",
    "    optimizer.step()\n",
    "with torch.no_grad():\n",
    "    out = netv1(test1_x.float())\n",
    "    _, predicted = torch.max(out.data, 1)\n",
    "    pre = predicted.numpy().tolist()"
   ]
  },
  {
   "cell_type": "code",
   "execution_count": 200,
   "id": "b16ee568",
   "metadata": {},
   "outputs": [
    {
     "name": "stdout",
     "output_type": "stream",
     "text": [
      "confusion matrix:\n",
      " [[0.97 0.03]\n",
      " [0.17 0.83]]\n",
      "              precision    recall  f1-score   support\n",
      "\n",
      "           0       0.94      0.97      0.95       322\n",
      "           1       0.91      0.83      0.87       119\n",
      "\n",
      "    accuracy                           0.93       441\n",
      "   macro avg       0.92      0.90      0.91       441\n",
      "weighted avg       0.93      0.93      0.93       441\n",
      "\n"
     ]
    },
    {
     "data": {
      "image/png": "[encoded data removed]",
      "text/plain": [
       "<Figure size 720x720 with 2 Axes>"
      ]
     },
     "metadata": {
      "needs_background": "light"
     },
     "output_type": "display_data"
    }
   ],
   "source": [
    "cm_tf1 = confusion_matrix(test1_y,pre)\n",
    "cm_tf1 = cm_tf1.astype('float') / cm_tf1.sum(axis=1)[:, np.newaxis]    \n",
    "print('confusion matrix:\\n',cm_tf1)\n",
    "labels = [0,1]  \n",
    "plot_confusion_matrix(cm_tf1,labels,'confusion_matrix')\n",
    "print(SkM.classification_report(test1_y,pre))"
   ]
  },
  {
   "cell_type": "markdown",
   "id": "4eec2621",
   "metadata": {},
   "source": [
    "Dataset 2"
   ]
  },
  {
   "cell_type": "code",
   "execution_count": 178,
   "id": "37daab58",
   "metadata": {},
   "outputs": [],
   "source": [
    "x_array = np.array(train2_x).astype('float')\n",
    "train2_x = torch.tensor(x_array)\n",
    "y_array = np.array(train2_y).astype('long')\n",
    "train2_y = torch.tensor(y_array)\n",
    "\n",
    "xt_array = np.array(step2_x).astype('float')\n",
    "step2_x = torch.tensor(xt_array)\n",
    "xt_array = np.array(test2_x).astype('float')\n",
    "test2_x = torch.tensor(xt_array)\n",
    "total_step = 200\n",
    "\n",
    "b = list(range(1,31))"
   ]
  },
  {
   "cell_type": "code",
   "execution_count": 179,
   "id": "5168b3dc",
   "metadata": {},
   "outputs": [],
   "source": [
    "# SGD method\n",
    "class NeuralNet(nn.Module):\n",
    "    def __init__(self, input_size, hidden_size,num_classes):\n",
    "        super(NeuralNet, self).__init__()\n",
    "        self.fc1 = nn.Linear(input_size, hidden_size)\n",
    "        self.relu = nn.ReLU()\n",
    "        self.fc2 = nn.Linear(hidden_size, num_classes)\n",
    "    def forward(self, x):\n",
    "        out = self.fc1(x)\n",
    "        out = self.relu(out)\n",
    "        out = self.fc2(out)\n",
    "        return out\n",
    "netv1 = NeuralNet(32, 9, 2)\n",
    "cr = nn.CrossEntropyLoss() # loss function\n",
    "optimizer = torch.optim.SGD(netv1.parameters(), lr=.02)\n",
    "for j in range(31):\n",
    "    for i in range(total_step):\n",
    "        outputs = netv1(train2_x.float())\n",
    "        loss = cr(outputs, train2_y.long())\n",
    "        optimizer.zero_grad() \n",
    "        loss.backward() \n",
    "        optimizer.step()\n",
    "    with torch.no_grad():\n",
    "        out = netv1(step2_x.float())\n",
    "        _, predicted = torch.max(out.data, 1)\n",
    "        pre2 = predicted.numpy().tolist()\n",
    "    b[j-1] = \"{:.3f}\".format(f1_score(step2_y, pre2))"
   ]
  },
  {
   "cell_type": "code",
   "execution_count": 180,
   "id": "b14823aa",
   "metadata": {},
   "outputs": [
    {
     "data": {
      "text/plain": [
       "5400"
      ]
     },
     "execution_count": 180,
     "metadata": {},
     "output_type": "execute_result"
    }
   ],
   "source": [
    "b.index(max(b))*200"
   ]
  },
  {
   "cell_type": "code",
   "execution_count": 181,
   "id": "2bb5a2ca",
   "metadata": {},
   "outputs": [],
   "source": [
    "class NeuralNet(nn.Module):\n",
    "    def __init__(self, input_size, hidden_size,num_classes):\n",
    "        super(NeuralNet, self).__init__()\n",
    "        self.fc1 = nn.Linear(input_size, hidden_size)\n",
    "        self.relu = nn.ReLU()\n",
    "        self.fc2 = nn.Linear(hidden_size, num_classes)\n",
    "    def forward(self, x):\n",
    "        out = self.fc1(x)\n",
    "        out = self.relu(out)\n",
    "        out = self.fc2(out)\n",
    "        return out\n",
    "netv1 = NeuralNet(32, 9, 2)\n",
    "cr = nn.CrossEntropyLoss() # loss function\n",
    "optimizer = torch.optim.SGD(netv1.parameters(), lr=.02)\n",
    "for i in range(5400):\n",
    "    outputs = netv1(train2_x.float())\n",
    "    loss = cr(outputs, train2_y.long())\n",
    "    optimizer.zero_grad() # 梯度清零\n",
    "    loss.backward() # 对损失函数BP\n",
    "    optimizer.step()\n",
    "with torch.no_grad():\n",
    "    out = netv1(test2_x.float())\n",
    "    _, predicted = torch.max(out.data, 1)\n",
    "    pre2 = predicted.numpy().tolist()"
   ]
  },
  {
   "cell_type": "code",
   "execution_count": 183,
   "id": "4264f572",
   "metadata": {},
   "outputs": [
    {
     "name": "stdout",
     "output_type": "stream",
     "text": [
      "confusion matrix:\n",
      " [[0.97 0.03]\n",
      " [0.14 0.86]]\n",
      "              precision    recall  f1-score   support\n",
      "\n",
      "           0       0.95      0.97      0.96       322\n",
      "           1       0.90      0.86      0.88       119\n",
      "\n",
      "    accuracy                           0.94       441\n",
      "   macro avg       0.93      0.91      0.92       441\n",
      "weighted avg       0.94      0.94      0.94       441\n",
      "\n"
     ]
    },
    {
     "data": {
      "image/png": "[encoded data removed]",
      "text/plain": [
       "<Figure size 720x720 with 2 Axes>"
      ]
     },
     "metadata": {
      "needs_background": "light"
     },
     "output_type": "display_data"
    }
   ],
   "source": [
    "cm_tf2 = confusion_matrix(test2_y,pre2)\n",
    "cm_tf2 = cm_tf2.astype('float') / cm_tf2.sum(axis=1)[:, np.newaxis]    # 归一化\n",
    "print('confusion matrix:\\n',cm_tf2)\n",
    "labels = [0,1]  #类别集合\n",
    "plot_confusion_matrix(cm_tf2,labels,'confusion_matrix')\n",
    "print(SkM.classification_report(test2_y,pre2))"
   ]
  }
 ],
 "metadata": {
  "kernelspec": {
   "display_name": "Python 3 (ipykernel)",
   "language": "python",
   "name": "python3"
  },
  "language_info": {
   "codemirror_mode": {
    "name": "ipython",
    "version": 3
   },
   "file_extension": ".py",
   "mimetype": "text/x-python",
   "name": "python",
   "nbconvert_exporter": "python",
   "pygments_lexer": "ipython3",
   "version": "3.8.8"
  }
 },
 "nbformat": 4,
 "nbformat_minor": 5
}
